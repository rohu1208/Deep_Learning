{
 "cells": [
  {
   "cell_type": "markdown",
   "id": "6f073219",
   "metadata": {},
   "source": [
    "# Perceptron\n"
   ]
  },
  {
   "cell_type": "markdown",
   "id": "2f479eed",
   "metadata": {},
   "source": [
    "# Perceptron: A basic building block of an Artificial Neural Network (ANN)\n",
    " It is used for binary classification tasks.\n",
    "\n",
    "# 1. Input Layer:\n",
    "#The perceptron takes inputs (features) x1, x2, ..., xn from the dataset.\n",
    "\n",
    "# 2. Weights:\n",
    " Each input xi is associated with a corresponding weight wi. These weights determine\n",
    "#the importance of each feature in predicting the output.\n",
    "\n",
    "# 3. Bias:\n",
    " An additional bias term 'b' is added to the weighted sum of inputs to help the model\n",
    "fit the data better by shifting the decision boundary.\n",
    "\n",
    "# 4. Activation Function:\n",
    " The perceptron computes the weighted sum of inputs:\n",
    " z = w1*x1 + w2*x2 + ... + wn*xn + b\n",
    " Then, it applies an activation function to decide the output.\n",
    "\n",
    "# 5. Output:\n",
    " The perceptron uses a threshold function (step function) to classify the data:\n",
    " If z >= 0, output = 1 (positive class)\n",
    "#If z < 0, output = 0 (negative class)\n",
    "\n",
    " In modern neural networks, more sophisticated activation functions (e.g., sigmoid, ReLU)\n",
    "are used, but the basic perceptron uses a step function.\n"
   ]
  },
  {
   "cell_type": "code",
   "execution_count": 4,
   "id": "ccfc955c",
   "metadata": {},
   "outputs": [
    {
     "name": "stdout",
     "output_type": "stream",
     "text": [
      "Predictions: [0 1 1 1]\n"
     ]
    }
   ],
   "source": [
    "import numpy as np\n",
    "\n",
    "class Perceptron:\n",
    "    def __init__(self, learning_rate=0.01, epochs=1000):\n",
    "        # Initialize learning rate and number of epochs\n",
    "        self.learning_rate = learning_rate\n",
    "        self.epochs = epochs\n",
    "        self.weights = None\n",
    "        self.bias = None\n",
    "\n",
    "    def activation_function(self, z):\n",
    "        # Step activation function\n",
    "        return 1 if z >= 0 else 0\n",
    "\n",
    "    def fit(self, X, y):\n",
    "        # Number of samples (rows) and features (columns)\n",
    "        n_samples, n_features = X.shape\n",
    "        \n",
    "        # Initialize weights and bias\n",
    "        self.weights = np.zeros(n_features)\n",
    "        self.bias = 0\n",
    "\n",
    "        # Training loop for the given number of epochs\n",
    "        for _ in range(self.epochs):\n",
    "            for idx, x_i in enumerate(X):\n",
    "                # Calculate the linear output: z = w * x + b\n",
    "                linear_output = np.dot(x_i, self.weights) + self.bias\n",
    "                # Get the predicted output using the activation function\n",
    "                y_predicted = self.activation_function(linear_output)\n",
    "                \n",
    "                # Calculate the update using the Perceptron learning rule\n",
    "                update = self.learning_rate * (y[idx] - y_predicted)\n",
    "                # Update the weights and bias\n",
    "                self.weights += update * x_i\n",
    "                self.bias += update\n",
    "\n",
    "    def predict(self, X):\n",
    "        # Predict function to classify new inputs\n",
    "        linear_output = np.dot(X, self.weights) + self.bias\n",
    "        y_predicted = [self.activation_function(i) for i in linear_output]\n",
    "        return np.array(y_predicted)\n",
    "\n",
    "# Example usage\n",
    "if __name__ == \"__main__\":\n",
    "    # Training data: OR gate example\n",
    "    X = np.array([[0, 0], [0, 1], [1, 0], [1, 1]])  # Input data (binary features)\n",
    "    y = np.array([0, 1, 1, 1])  # Labels (OR gate output)\n",
    "\n",
    "    # Initialize and train the Perceptron\n",
    "    perceptron = Perceptron(learning_rate=0.1, epochs=10)\n",
    "    perceptron.fit(X, y)\n",
    "\n",
    "    # Testing the Perceptron\n",
    "    predictions = perceptron.predict(X)\n",
    "    print(\"Predictions:\", predictions)\n",
    "\n"
   ]
  },
  {
   "cell_type": "code",
   "execution_count": 5,
   "id": "a7a2281e",
   "metadata": {},
   "outputs": [],
   "source": [
    "# epoach --> iterations\n",
    "# eta -----> learning rate"
   ]
  },
  {
   "cell_type": "code",
   "execution_count": null,
   "id": "28ae6fb4",
   "metadata": {},
   "outputs": [],
   "source": []
  }
 ],
 "metadata": {
  "kernelspec": {
   "display_name": "Python 3 (ipykernel)",
   "language": "python",
   "name": "python3"
  },
  "language_info": {
   "codemirror_mode": {
    "name": "ipython",
    "version": 3
   },
   "file_extension": ".py",
   "mimetype": "text/x-python",
   "name": "python",
   "nbconvert_exporter": "python",
   "pygments_lexer": "ipython3",
   "version": "3.11.4"
  }
 },
 "nbformat": 4,
 "nbformat_minor": 5
}
